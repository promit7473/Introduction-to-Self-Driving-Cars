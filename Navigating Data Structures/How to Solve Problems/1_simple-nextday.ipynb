{
 "cells": [
  {
   "cell_type": "code",
   "execution_count": 1,
   "metadata": {
    "grader_id": "b5hd1ab377a"
   },
   "outputs": [],
   "source": [
    "# Define a simple nextDay procedure, that assumes every month has 30 days.\n",
    "\n",
    "def nextDay(year, month, day):\n",
    "    \"\"\"\n",
    "    Returns the year, month, day of the next day.\n",
    "    Simple version: assume every month has 30 days.\n",
    "    \"\"\"\n",
    "    # YOUR CODE HERE\n",
    "    if day < 30:\n",
    "        return year, month, day + 1\n",
    "    else:\n",
    "        if month < 12:\n",
    "            return year, month + 1, 1\n",
    "        else:\n",
    "            return year + 1, 1, 1"
   ]
  },
  {
   "cell_type": "code",
   "execution_count": 2,
   "metadata": {
    "edited": false,
    "gradable": true,
    "grader_id": "pmnbdsb7ad",
    "udacity_user_query": ""
   },
   "outputs": [],
   "source": [
    "new_day = nextDay(2022, 5, 11)"
   ]
  },
  {
   "cell_type": "code",
   "execution_count": 3,
   "metadata": {
    "edited": false,
    "gradable": true,
    "grader_id": "hi34yxsrfw",
    "udacity_user_query": ""
   },
   "outputs": [],
   "source": [
    "new_month = nextDay(2022, 6, 30)"
   ]
  },
  {
   "cell_type": "code",
   "execution_count": 4,
   "metadata": {
    "edited": false,
    "gradable": true,
    "grader_id": "zc6ku9t7aqn",
    "udacity_user_query": ""
   },
   "outputs": [],
   "source": [
    "new_year = nextDay(2022, 12, 31)"
   ]
  },
  {
   "cell_type": "code",
   "execution_count": null,
   "metadata": {},
   "outputs": [],
   "source": []
  }
 ],
 "metadata": {
  "grader_mode": "",
  "kernelspec": {
   "display_name": "Python 3",
   "language": "python",
   "name": "python3"
  },
  "language_info": {
   "codemirror_mode": {
    "name": "ipython",
    "version": 3
   },
   "file_extension": ".py",
   "mimetype": "text/x-python",
   "name": "python",
   "nbconvert_exporter": "python",
   "pygments_lexer": "ipython3",
   "version": "3.6.3"
  },
  "showGradeBtn": true
 },
 "nbformat": 4,
 "nbformat_minor": 2
}
