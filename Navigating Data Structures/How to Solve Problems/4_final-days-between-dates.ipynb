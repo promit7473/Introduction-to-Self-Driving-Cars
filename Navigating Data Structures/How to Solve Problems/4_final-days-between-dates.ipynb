{
 "cells": [
  {
   "cell_type": "markdown",
   "metadata": {},
   "source": [
    "# Final daysBetweenDates\n",
    "\n",
    "This version should take handle months that have more or less than 30 days and handle leap years.\n",
    "\n",
    "## If you get stuck...\n",
    "\n",
    "The solution to this quiz starts in the next video and progresses through the rest of the lesson. Watch the video on the next page, and then come back and try again."
   ]
  },
  {
   "cell_type": "code",
   "execution_count": null,
   "metadata": {
    "grader_id": "k91e7ucn48"
   },
   "outputs": [],
   "source": [
    "def isLeapYear(year):\n",
    "    # if year modulo 400 is 0 then\n",
    "    #     is_leap_year\n",
    "    # else if year modulo 100 is 0 then\n",
    "    #     not_leap_year\n",
    "    # else if year modulo 4 is 0 then\n",
    "    #     is_leap_year\n",
    "    # else\n",
    "    #     not_leap_year\n",
    "    if year % 400 == 0:\n",
    "        return True\n",
    "    if year % 100 == 0:\n",
    "        return False\n",
    "    if year % 4 == 0:\n",
    "        return True\n",
    "    return False\n",
    "\n",
    "def daysInMonth(year, month):\n",
    "    if month == 1 or month == 3 or month == 5 or month == 7 \\\n",
    "       or month == 8 or month == 10 or month == 12:\n",
    "        return 31\n",
    "    else:\n",
    "        if month == 2:\n",
    "            if isLeapYear(year):\n",
    "                return 29\n",
    "            else:\n",
    "                return 28\n",
    "        else:\n",
    "            return 30\n",
    "\n",
    "def nextDay(year, month, day):\n",
    "    \"\"\"Simple version: assume every month has 30 days\"\"\"\n",
    "    if day < daysInMonth(year, month):\n",
    "        return year, month, day + 1\n",
    "    else:\n",
    "        if month == 12:\n",
    "            return year + 1, 1, 1\n",
    "        else:\n",
    "            return year, month + 1, 1\n",
    "        \n",
    "def dateIsBefore(year1, month1, day1, year2, month2, day2):\n",
    "    \"\"\"Returns True if year1-month1-day1 is before\n",
    "       year2-month2-day2. Otherwise, returns False.\"\"\"\n",
    "    if year1 < year2:\n",
    "        return True\n",
    "    if year1 == year2:\n",
    "        if month1 < month2:\n",
    "            return True\n",
    "        if month1 == month2:\n",
    "            return day1 < day2\n",
    "    return False    \n",
    "\n",
    "def daysBetweenDates(year1, month1, day1, year2, month2, day2):\n",
    "    \"\"\"Returns the number of days between year1/month1/day1\n",
    "       and year2/month2/day2. Assumes inputs are valid dates\n",
    "       in Gregorian calendar.\"\"\"\n",
    "       \n",
    "    # Throw an AssertionError if the input is not valid\n",
    "    assert not dateIsBefore(year2, month2, day2, year1, month1, day1)\n",
    "    \n",
    "    days = 0\n",
    "    while dateIsBefore(year1, month1, day1, year2, month2, day2):\n",
    "        year1, month1, day1 = nextDay(year1, month1, day1)\n",
    "        days += 1\n",
    "    return days\n",
    "\n",
    "# Testing code -- do not change\n",
    "def codeTest(year1, month1, day1, year2, month2, day2, answer):\n",
    "    try:\n",
    "        result = daysBetweenDates(year1, month1, day1, year2, month2, day2)\n",
    "        if result == answer and answer != \"AssertionError\":\n",
    "            return \"correct\"\n",
    "        else: \n",
    "            return \"incorrect\"\n",
    "    \n",
    "    except AssertionError:\n",
    "        if answer == \"AssertionError\":\n",
    "            return \"correct AssertionError\"\n",
    "        else:\n",
    "            return \"incorrect AssertionError\"\n",
    "           "
   ]
  },
  {
   "cell_type": "code",
   "execution_count": null,
   "metadata": {
    "edited": false,
    "gradable": true,
    "grader_id": "131uk355d91b",
    "udacity_user_query": ""
   },
   "outputs": [],
   "source": [
    "test_1 = codeTest(2012,1,1,2012,2,28,58)"
   ]
  },
  {
   "cell_type": "code",
   "execution_count": null,
   "metadata": {
    "edited": false,
    "gradable": true,
    "grader_id": "syep6s8cso",
    "udacity_user_query": ""
   },
   "outputs": [],
   "source": [
    "test_2 = codeTest(2012,1,1,2012,3,1,60)"
   ]
  },
  {
   "cell_type": "code",
   "execution_count": null,
   "metadata": {
    "edited": false,
    "gradable": true,
    "grader_id": "f56r1j7tbzc",
    "udacity_user_query": ""
   },
   "outputs": [],
   "source": [
    "test_3 = codeTest(2011,6,30,2012,6,30,366)"
   ]
  },
  {
   "cell_type": "code",
   "execution_count": null,
   "metadata": {
    "edited": false,
    "gradable": true,
    "grader_id": "47shx9p29my",
    "udacity_user_query": ""
   },
   "outputs": [],
   "source": [
    "test_4 = codeTest(2013,1,1,1999,12,31, \"AssertionError\")"
   ]
  },
  {
   "cell_type": "code",
   "execution_count": null,
   "metadata": {
    "edited": false,
    "gradable": true,
    "grader_id": "4ttmmbujzox",
    "udacity_user_query": ""
   },
   "outputs": [],
   "source": [
    "test_5 = codeTest(2011,1,1,2012,8,8,585)"
   ]
  },
  {
   "cell_type": "code",
   "execution_count": null,
   "metadata": {
    "edited": false,
    "gradable": true,
    "grader_id": "yyqlrre0zna",
    "udacity_user_query": ""
   },
   "outputs": [],
   "source": [
    "test_6 = codeTest(1991,3,1,1991,1,3,\"AssertionError\")"
   ]
  },
  {
   "cell_type": "code",
   "execution_count": null,
   "metadata": {
    "edited": false,
    "gradable": true,
    "grader_id": "oex39bak81n",
    "udacity_user_query": ""
   },
   "outputs": [],
   "source": [
    "test_7 = codeTest(2012,2,1,2012,3,1,29)"
   ]
  },
  {
   "cell_type": "code",
   "execution_count": null,
   "metadata": {
    "edited": false,
    "gradable": true,
    "grader_id": "x29jygs7qd",
    "udacity_user_query": ""
   },
   "outputs": [],
   "source": [
    "test_8 = codeTest(1900,1,1,1999,12,31,36523)"
   ]
  }
 ],
 "metadata": {
  "grader_mode": "",
  "kernelspec": {
   "display_name": "Python 3",
   "language": "python",
   "name": "python3"
  },
  "language_info": {
   "codemirror_mode": {
    "name": "ipython",
    "version": 3
   },
   "file_extension": ".py",
   "mimetype": "text/x-python",
   "name": "python",
   "nbconvert_exporter": "python",
   "pygments_lexer": "ipython3",
   "version": "3.6.3"
  },
  "showGradeBtn": true
 },
 "nbformat": 4,
 "nbformat_minor": 2
}
