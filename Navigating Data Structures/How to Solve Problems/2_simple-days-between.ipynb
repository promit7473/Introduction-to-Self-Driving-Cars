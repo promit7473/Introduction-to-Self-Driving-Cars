{
 "cells": [
  {
   "cell_type": "markdown",
   "metadata": {},
   "source": [
    "# Simple daysBetweenDates\n",
    "\n",
    "Define a `daysBetweenDates` function that would produce the\n",
    "correct output if there was a correct `nextDay` function.\n",
    "\n",
    "Note that this will NOT produce correct outputs yet, since\n",
    "our nextDay procedure assumes all months have 30 days\n",
    "(hence a year is 360 days, instead of 365)."
   ]
  },
  {
   "cell_type": "code",
   "execution_count": 3,
   "metadata": {
    "grader_id": "k91e7ucn48"
   },
   "outputs": [],
   "source": [
    "def nextDay(year, month, day):\n",
    "    \"\"\"Simple version: assume every month has 30 days\"\"\"\n",
    "    if day < 30:\n",
    "        return year, month, day + 1\n",
    "    else:\n",
    "        if month == 12:\n",
    "            return year + 1, 1, 1\n",
    "        else:\n",
    "            return year, month + 1, 1\n",
    "        \n",
    "def dateIsBefore(year1, month1, day1, year2, month2, day2):\n",
    "    \"\"\"Returns True if year1-month1-day1 is before\n",
    "        year2-month2-day2. Otherwise, returns False.\"\"\"\n",
    "    if year1 < year2:\n",
    "        return True\n",
    "    if year1 == year2:\n",
    "        if month1 < month2:\n",
    "            return True\n",
    "        if month1 == month2:\n",
    "            return day1 < day2\n",
    "    return False\n",
    "        \n",
    "def daysBetweenDates(year1, month1, day1, year2, month2, day2):\n",
    "    \"\"\"Returns the number of days between year1/month1/day1\n",
    "       and year2/month2/day2. Assumes inputs are valid dates\n",
    "       in Gregorian calendar, and the first date is not after\n",
    "       the second.\"\"\"\n",
    "        \n",
    "    # YOUR CODE HERE!\n",
    "    days = 0\n",
    "    while dateIsBefore(year1, month1, day1, year2, month2, day2):\n",
    "        year1, month1, day1 = nextDay(year1, month1, day1)\n",
    "        days += 1  \n",
    "    return days"
   ]
  },
  {
   "cell_type": "code",
   "execution_count": 4,
   "metadata": {
    "edited": true,
    "gradable": true,
    "grader_id": "131uk355d91b",
    "udacity_user_query": ""
   },
   "outputs": [],
   "source": [
    "test_1 = daysBetweenDates(2012,9,30,2012,10,30)"
   ]
  },
  {
   "cell_type": "code",
   "execution_count": 5,
   "metadata": {
    "edited": true,
    "gradable": true,
    "grader_id": "syep6s8cso",
    "udacity_user_query": ""
   },
   "outputs": [],
   "source": [
    "test_2 = daysBetweenDates(2012,1,1,2013,1,1)"
   ]
  },
  {
   "cell_type": "code",
   "execution_count": 6,
   "metadata": {
    "edited": true,
    "gradable": true,
    "grader_id": "f56r1j7tbzc",
    "udacity_user_query": ""
   },
   "outputs": [],
   "source": [
    "test_3 = daysBetweenDates(2012,9,1,2012,9,4)"
   ]
  },
  {
   "cell_type": "code",
   "execution_count": null,
   "metadata": {},
   "outputs": [],
   "source": []
  }
 ],
 "metadata": {
  "grader_mode": "",
  "kernelspec": {
   "display_name": "Python 3",
   "language": "python",
   "name": "python3"
  },
  "language_info": {
   "codemirror_mode": {
    "name": "ipython",
    "version": 3
   },
   "file_extension": ".py",
   "mimetype": "text/x-python",
   "name": "python",
   "nbconvert_exporter": "python",
   "pygments_lexer": "ipython3",
   "version": "3.6.3"
  },
  "showGradeBtn": true
 },
 "nbformat": 4,
 "nbformat_minor": 2
}
