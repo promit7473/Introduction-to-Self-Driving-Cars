{
 "cells": [
  {
   "cell_type": "markdown",
   "metadata": {},
   "source": [
    "## Quiz: Predicting State\n",
    "Write a function that uses a motion model to predict a new state.  In the function below, fill in the code for predicted_x and predicted_vel."
   ]
  },
  {
   "cell_type": "code",
   "execution_count": null,
   "metadata": {
    "edited": true,
    "gradable": true,
    "grader_id": "iuzwaiv23u",
    "udacity_user_query": ""
   },
   "outputs": [],
   "source": [
    "# The predict_state function should take in a state\n",
    "# and a change in time, dt (ex. 3 for 3 seconds)\n",
    "# and it should output a new, predicted state\n",
    "# based on a constant motion model\n",
    "# This function also assumes that all units are in m, m/s, s, etc.\n",
    "\n",
    "def predict_state(state, dt):\n",
    "    # Assume that state takes the form [x, vel] i.e. [0, 50]\n",
    "    ## These should be calculated based on the constant motion model:\n",
    "    ## distance = x + velocity*time\n",
    "    \n",
    "    predicted_x = state[0] + state[1] * dt ## Calculate the new position, predicted_x\n",
    "    predicted_vel = state[1] ## Calculate the new velocity, predicted_vel\n",
    "    \n",
    "    # Constructs the predicted state and returns it\n",
    "    predicted_state = [predicted_x, predicted_vel]\n",
    "    return predicted_state\n",
    "\n",
    "# A state and function call for testing purposes - do not delete\n",
    "test_state = [10, 3]\n",
    "test_dt = 5"
   ]
  }
 ],
 "metadata": {
  "grader_mode": "",
  "kernelspec": {
   "display_name": "Python 3",
   "language": "python",
   "name": "python3"
  },
  "language_info": {
   "codemirror_mode": {
    "name": "ipython",
    "version": 3
   },
   "file_extension": ".py",
   "mimetype": "text/x-python",
   "name": "python",
   "nbconvert_exporter": "python",
   "pygments_lexer": "ipython3",
   "version": "3.6.3"
  },
  "showGradeBtn": true
 },
 "nbformat": 4,
 "nbformat_minor": 2
}
