{
 "cells": [
  {
   "cell_type": "markdown",
   "metadata": {},
   "source": [
    "## Quiz: Always Moving\n",
    "In the code below, you are given a predict_state function that takes in a current state and a change in time, dt, and returns the new state estimate (based on a constant velocity model).\n",
    "\n",
    "It will be up to you to use this function repeatedly to find the predicted_state at 5 different points in time"
   ]
  },
  {
   "cell_type": "code",
   "execution_count": 3,
   "metadata": {
    "edited": true,
    "gradable": true,
    "grader_id": "l2nhh1t3wxq",
    "udacity_user_query": ""
   },
   "outputs": [
    {
     "name": "stdout",
     "output_type": "stream",
     "text": [
      "[10, 60]\n",
      "[130, 60]\n",
      "[310, 60]\n",
      "[370, 60]\n",
      "[610, 60]\n"
     ]
    }
   ],
   "source": [
    "def predict_state(state, dt):\n",
    "    # Assumes a valid state had been passed in\n",
    "    # Assumes a constant velocity model\n",
    "    x = state[0]\n",
    "    new_x = x+state[1]*dt\n",
    "    \n",
    "    # Create and return the new, predicted state\n",
    "    predicted_state = [new_x, state[1]]\n",
    "    return predicted_state\n",
    "\n",
    "# predict_state takes in a state and a change in time, dt\n",
    "# So, a call might look like: new_state = predict_state(old_state, 2)\n",
    "\n",
    "# The car starts at position = 0, going 60 m/s\n",
    "# The initial state:\n",
    "initial_state = [10, 60]\n",
    "\n",
    "# After 2 seconds:\n",
    "state_est1 = predict_state(initial_state, 2)\n",
    "\n",
    "# 3 more seconds after the first estimated state\n",
    "state_est2 = predict_state(state_est1, 3)\n",
    "\n",
    "## TODO: Use the predict_state function \n",
    "## and the above variables to calculate the following states\n",
    "## (And change their value from 0 to the correct state)\n",
    "\n",
    "## Then, click Test Code to see your results!\n",
    "\n",
    "## 1 more second after the second state estimate\n",
    "state_est3 = predict_state(state_est2, 1) #Complete this code\n",
    "\n",
    "## 4 more seconds after the third estimated state\n",
    "state_est4 = predict_state(state_est3, 4) #Complete this code\n",
    "\n",
    "print(initial_state)\n",
    "print(state_est1)\n",
    "print(state_est2)\n",
    "print(state_est3)\n",
    "print(state_est4)"
   ]
  },
  {
   "cell_type": "code",
   "execution_count": null,
   "metadata": {
    "grader_id": "h9phvatryk6"
   },
   "outputs": [],
   "source": []
  }
 ],
 "metadata": {
  "grader_mode": "",
  "kernelspec": {
   "display_name": "Python 3 (ipykernel)",
   "language": "python",
   "name": "python3"
  },
  "language_info": {
   "codemirror_mode": {
    "name": "ipython",
    "version": 3
   },
   "file_extension": ".py",
   "mimetype": "text/x-python",
   "name": "python",
   "nbconvert_exporter": "python",
   "pygments_lexer": "ipython3",
   "version": "3.10.12"
  },
  "showGradeBtn": true
 },
 "nbformat": 4,
 "nbformat_minor": 4
}
