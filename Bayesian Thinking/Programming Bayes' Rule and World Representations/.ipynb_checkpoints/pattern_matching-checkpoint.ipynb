{
 "cells": [
  {
   "cell_type": "code",
   "execution_count": 18,
   "metadata": {
    "edited": true,
    "gradable": true,
    "grader_id": "jvyavvd19o",
    "udacity_user_query": ""
   },
   "outputs": [
    {
     "name": "stdout",
     "output_type": "stream",
     "text": [
      "[[0, 2], [1, 0], [1, 3], [2, 0]]\n"
     ]
    }
   ],
   "source": [
    "import numpy as np\n",
    "\n",
    "# A 4x5 robot world of characters 'o' and 'b'\n",
    "world = np.array([ ['o', 'b', 'o', 'o', 'b'],\n",
    "                   ['o', 'o', 'b', 'o', 'o'],\n",
    "                   ['b', 'o', 'o', 'b', 'o'],\n",
    "                   ['b', 'o', 'o', 'o', 'o'] ])\n",
    "\n",
    "# Sensor measurement\n",
    "measurement = ['b', 'o']\n",
    "\n",
    "def find_match(world, measurement):\n",
    "    \n",
    "    # Empty possible_locations list\n",
    "    possible_locations = []\n",
    "    for i in range(world.shape[0]-1):\n",
    "        for j in range(world.shape[1]-1):\n",
    "            # if we are at the edge then we can't\n",
    "            # look ahead. Use the \"continue\" statement\n",
    "            # to proceed to the next step in the loop.\n",
    "            # if j== (world.shape[1]-1):\n",
    "            #     continue\n",
    "            \n",
    "            m_under = world[i+1,j]   # get measurement UNDER robot\n",
    "            m_front = world[i,j+1] # measurement in front of robot\n",
    "            if [m_under, m_front] == measurement:\n",
    "                possible_locations.append([i,j])\n",
    "    \n",
    "    print(possible_locations)\n",
    "   \n",
    "\n",
    "# This line runs the function and stores the output - do not delete \n",
    "locations = find_match(world, measurement)"
   ]
  },
  {
   "cell_type": "code",
   "execution_count": null,
   "metadata": {},
   "outputs": [],
   "source": []
  }
 ],
 "metadata": {
  "grader_mode": "",
  "kernelspec": {
   "display_name": "Python 3 (ipykernel)",
   "language": "python",
   "name": "python3"
  },
  "language_info": {
   "codemirror_mode": {
    "name": "ipython",
    "version": 3
   },
   "file_extension": ".py",
   "mimetype": "text/x-python",
   "name": "python",
   "nbconvert_exporter": "python",
   "pygments_lexer": "ipython3",
   "version": "3.12.4"
  },
  "showGradeBtn": true
 },
 "nbformat": 4,
 "nbformat_minor": 4
}
