{
 "cells": [
  {
   "cell_type": "code",
   "execution_count": 1,
   "metadata": {
    "edited": true,
    "gradable": true,
    "grader_id": "jvyavvd19o",
    "udacity_user_query": ""
   },
   "outputs": [],
   "source": [
    "import numpy as np\n",
    "\n",
    "# A 4x5 robot world of characters 'o' and 'b'\n",
    "world = np.array([ ['o', 'b', 'o', 'o', 'b'],\n",
    "                   ['o', 'o', 'b', 'o', 'o'],\n",
    "                   ['b', 'o', 'o', 'b', 'o'],\n",
    "                   ['b', 'o', 'o', 'o', 'o'] ])\n",
    "\n",
    "# Sensor measurement\n",
    "measurement = np.array(['b', 'o'])\n",
    "\n",
    "def find_match(world, measurement):\n",
    "    \"\"\"\n",
    "    This function takes in the world and the sensor measurement.\n",
    "    Complete this function so that it returns the indices of the \n",
    "    likely robot locations, based on matching the measurement\n",
    "    with the color patterns in the world\n",
    "    \"\"\"\n",
    "    \n",
    "    # Empty possible_locations list\n",
    "    possible_locations = []\n",
    "    \n",
    "    # TODO: Iterate through the world (making sure not to go past the\n",
    "    # bounds of the world). No need to go all the way to the right edge\n",
    "    # of the world, since there needs to be room for the square to the\n",
    "    # right of the robot\n",
    "    row = world.shape[0]\n",
    "    col = world.shape[1]\n",
    "    \n",
    "    for i in range(0, row):\n",
    "        for j in range(0, col - (len(measurement) - 1)):\n",
    "    \n",
    "            # TODO: Check if a match is found by comparing array contents\n",
    "            # and checking for equality\n",
    "            possible_match = world[i][j:j + len(measurement)]\n",
    "            \n",
    "            if np.array_equal(possible_match, measurement):\n",
    "                \n",
    "                # If a match is found, append the current location\n",
    "                # in the format [row_index, column_index], e.g. [0, 0]\n",
    "                possible_locations.append([i, j])\n",
    "    \n",
    "    return possible_locations\n",
    "   \n",
    "# This line runs the function and stores the output - do not delete \n",
    "locations = find_match(world, measurement)"
   ]
  }
 ],
 "metadata": {
  "grader_mode": "",
  "kernelspec": {
   "display_name": "Python 3",
   "language": "python",
   "name": "python3"
  },
  "language_info": {
   "codemirror_mode": {
    "name": "ipython",
    "version": 3
   },
   "file_extension": ".py",
   "mimetype": "text/x-python",
   "name": "python",
   "nbconvert_exporter": "python",
   "pygments_lexer": "ipython3",
   "version": "3.6.3"
  },
  "showGradeBtn": true
 },
 "nbformat": 4,
 "nbformat_minor": 2
}
