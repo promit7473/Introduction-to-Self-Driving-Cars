{
 "cells": [
  {
   "cell_type": "code",
   "execution_count": null,
   "metadata": {
    "edited": true,
    "gradable": true,
    "grader_id": "kwqlnzsrrq8",
    "udacity_user_query": ""
   },
   "outputs": [],
   "source": [
    "def probability_of_collision(car_1, car_2):\n",
    "    \"\"\"\n",
    "    Calculate the probablity of a collision based on the car turns\n",
    "    Args:\n",
    "        car_1 (string): The turning direction of car_1\n",
    "        car_2 (string): The turning direction of car_2\n",
    "        \n",
    "    Returns:\n",
    "        float: the probability of a collision\n",
    "    \"\"\"\n",
    "    # car_1 and car_2 will each be strings whose value will either be \n",
    "    # \"L\" for left, \"S\" for straight, or \"R\" for right.\n",
    "    probability = 0.0 # you should change this value based on the directions.\n",
    "    \n",
    "    if car_1 == \"L\":\n",
    "        # TODO your code here for when car 1 turns left\n",
    "        if car_2 == \"L\":\n",
    "            probability = 0.5\n",
    "        elif car_2 == \"S\":\n",
    "            probability = 0.25\n",
    "        else:\n",
    "            probability = 0.1\n",
    "    elif car_1 == \"S\":\n",
    "        # TODO your code here for when car 1 goes straight\n",
    "        if car_2 == \"S\":\n",
    "            probability = 0.25\n",
    "        elif car_2 == \"S\":\n",
    "            probability = 0.02\n",
    "        else:\n",
    "            probability = 0.1\n",
    "    else:\n",
    "        # TODO your code here for when car 1 turns right\n",
    "        if car_2 == \"L\":\n",
    "            probability = 0.1\n",
    "        elif car_2 == \"S\":\n",
    "            probability = 0.1\n",
    "        else:\n",
    "            probability = 0.01\n",
    "    \n",
    "    return probability"
   ]
  }
 ],
 "metadata": {
  "grader_mode": "",
  "kernelspec": {
   "display_name": "Python 3",
   "language": "python",
   "name": "python3"
  },
  "language_info": {
   "codemirror_mode": {
    "name": "ipython",
    "version": 3
   },
   "file_extension": ".py",
   "mimetype": "text/x-python",
   "name": "python",
   "nbconvert_exporter": "python",
   "pygments_lexer": "ipython3",
   "version": "3.6.3"
  },
  "showGradeBtn": true
 },
 "nbformat": 4,
 "nbformat_minor": 2
}
