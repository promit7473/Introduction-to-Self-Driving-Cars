{
 "cells": [
  {
   "cell_type": "markdown",
   "metadata": {
    "collapsed": true,
    "jupyter": {
     "outputs_hidden": true
    }
   },
   "source": [
    "# Control Flow in Python\n",
    "The code below demonstrates how the flow of program execution can be controlled using statements like `if`, `elif` and `else`."
   ]
  },
  {
   "cell_type": "code",
   "execution_count": 2,
   "metadata": {},
   "outputs": [
    {
     "name": "stdin",
     "output_type": "stream",
     "text": [
      "please enter a number 5\n"
     ]
    },
    {
     "name": "stdout",
     "output_type": "stream",
     "text": [
      "Y is not between 5 and 10\n"
     ]
    }
   ],
   "source": [
    "Y = int(input(\"please enter a number\"))\n",
    "# Check that 5 < Y and Y < 10\n",
    "if 5 < Y < 10:\n",
    "    print(\"Y is between 5 and 10\")\n",
    "else: \n",
    "    print(\"Y is not between 5 and 10\")"
   ]
  },
  {
   "cell_type": "code",
   "execution_count": 2,
   "metadata": {},
   "outputs": [
    {
     "name": "stdout",
     "output_type": "stream",
     "text": [
      "X is a small number\n"
     ]
    }
   ],
   "source": [
    "X = 4\n",
    "if X < 5:\n",
    "    print(\"X is a small number\")\n",
    "elif X < 20:\n",
    "    print(\"X is a medium sized number\")\n",
    "else:\n",
    "    print(\"X is a big number\")"
   ]
  },
  {
   "cell_type": "code",
   "execution_count": 4,
   "metadata": {},
   "outputs": [
    {
     "name": "stdout",
     "output_type": "stream",
     "text": [
      "True is always True!\n"
     ]
    }
   ],
   "source": [
    "if True:\n",
    "    print(\"True is always True!\")"
   ]
  },
  {
   "cell_type": "code",
   "execution_count": 3,
   "metadata": {},
   "outputs": [],
   "source": [
    "if False:\n",
    "    print(\"This will never be printed\")    "
   ]
  },
  {
   "cell_type": "code",
   "execution_count": null,
   "metadata": {},
   "outputs": [],
   "source": []
  }
 ],
 "metadata": {
  "kernelspec": {
   "display_name": "Python 3 (ipykernel)",
   "language": "python",
   "name": "python3"
  },
  "language_info": {
   "codemirror_mode": {
    "name": "ipython",
    "version": 3
   },
   "file_extension": ".py",
   "mimetype": "text/x-python",
   "name": "python",
   "nbconvert_exporter": "python",
   "pygments_lexer": "ipython3",
   "version": "3.12.4"
  }
 },
 "nbformat": 4,
 "nbformat_minor": 4
}
