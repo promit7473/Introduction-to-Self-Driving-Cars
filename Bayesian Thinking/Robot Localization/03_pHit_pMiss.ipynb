{
 "cells": [
  {
   "cell_type": "code",
   "execution_count": 1,
   "metadata": {
    "edited": true,
    "gradable": true,
    "grader_id": "lamzcq7sx",
    "udacity_user_query": ""
   },
   "outputs": [
    {
     "name": "stdout",
     "output_type": "stream",
     "text": [
      "[0.04000000000000001, 0.12, 0.12, 0.04000000000000001, 0.04000000000000001]\n",
      "0.3600000000000001\n"
     ]
    }
   ],
   "source": [
    "# Write code that outputs p after multiplying each entry \n",
    "# by pHit or pMiss at the appropriate places. Remember that\n",
    "# the red cells 1 and 2 are hits and the other green cells\n",
    "# are misses.\n",
    "\n",
    "p=[0.2, 0.2, 0.2, 0.2, 0.2]\n",
    "pHit = 0.6\n",
    "pMiss = 0.2\n",
    "\n",
    "# p[0] = p[0] * pMiss\n",
    "# p[1] = p[1] * pHit\n",
    "# p[2] = p[2] * pHit\n",
    "# p[3] = p[3] * pMiss\n",
    "# p[4] = p[4] * pMiss\n",
    "\n",
    "for i in range(len(p)):\n",
    "    if i == 1 or i == 2:\n",
    "        p[i] = p[i]*pHit\n",
    "    else:\n",
    "        p[i] = p[i]*pMiss\n",
    "\n",
    "sum = 0\n",
    "print(p)\n",
    "\n",
    "for i in range(len(p)):\n",
    "    sum += p[i]\n",
    "print(sum)"
   ]
  },
  {
   "cell_type": "code",
   "execution_count": null,
   "metadata": {},
   "outputs": [],
   "source": []
  }
 ],
 "metadata": {
  "grader_mode": "",
  "kernelspec": {
   "display_name": "Python 3 (ipykernel)",
   "language": "python",
   "name": "python3"
  },
  "language_info": {
   "codemirror_mode": {
    "name": "ipython",
    "version": 3
   },
   "file_extension": ".py",
   "mimetype": "text/x-python",
   "name": "python",
   "nbconvert_exporter": "python",
   "pygments_lexer": "ipython3",
   "version": "3.12.4"
  },
  "showGradeBtn": true
 },
 "nbformat": 4,
 "nbformat_minor": 4
}
