{
 "cells": [
  {
   "cell_type": "code",
   "execution_count": 3,
   "metadata": {
    "edited": true,
    "gradable": true,
    "grader_id": "jg4o3bhpbyk",
    "udacity_user_query": ""
   },
   "outputs": [
    {
     "name": "stdout",
     "output_type": "stream",
     "text": [
      "[0.20000000000000004, 0.19999999999999996, 0.19999999999999996, 0.20000000000000004, 0.20000000000000004]\n"
     ]
    }
   ],
   "source": [
    "# Modify the code so that it updates the probability twice\n",
    "# and gives the posterior distribution after both \n",
    "# measurements are incorporated. Make sure that your code \n",
    "# allows for any sequence of measurement of any length.\n",
    "\n",
    "p=[0.2, 0.2, 0.2, 0.2, 0.2]\n",
    "world=['green', 'red', 'red', 'green', 'green']\n",
    "measurements = ['red', 'green']\n",
    "pHit = 0.6\n",
    "pMiss = 0.2\n",
    "\n",
    "def sense(p, world, Z):\n",
    "    q = list()\n",
    "    \n",
    "    for i in range(len(p)):\n",
    "        if world[i] == Z:\n",
    "            q.append(pHit * p[i])\n",
    "        else:\n",
    "            q.append(pMiss * p[i])\n",
    "\n",
    "    total = sum(q)\n",
    "    for i in range(len(q)):\n",
    "        q[i] = q[i] / total\n",
    "    return q\n",
    "\n",
    "## YOUR CODE HERE ##\n",
    "for k in range(len(measurements)):\n",
    "    p = sense(p, world, measurements[k])\n",
    "    \n",
    "print(p)"
   ]
  },
  {
   "cell_type": "code",
   "execution_count": null,
   "metadata": {},
   "outputs": [],
   "source": []
  }
 ],
 "metadata": {
  "grader_mode": "",
  "kernelspec": {
   "display_name": "Python 3",
   "language": "python",
   "name": "python3"
  },
  "language_info": {
   "codemirror_mode": {
    "name": "ipython",
    "version": 3
   },
   "file_extension": ".py",
   "mimetype": "text/x-python",
   "name": "python",
   "nbconvert_exporter": "python",
   "pygments_lexer": "ipython3",
   "version": "3.6.3"
  },
  "showGradeBtn": true
 },
 "nbformat": 4,
 "nbformat_minor": 2
}
