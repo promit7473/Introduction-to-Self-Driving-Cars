{
 "cells": [
  {
   "cell_type": "code",
   "execution_count": 3,
   "metadata": {
    "edited": true,
    "gradable": true,
    "grader_id": "3xto8ak6ljb",
    "udacity_user_query": ""
   },
   "outputs": [
    {
     "name": "stdout",
     "output_type": "stream",
     "text": [
      "[0.16000000000000003, 0.010000000000000002, 0.010000000000000002, 0.16000000000000003, 0.6600000000000001]\n"
     ]
    }
   ],
   "source": [
    "# Write code that makes the robot move *twice* and assigns \n",
    "# the resulting distribution to p, starting with the initial \n",
    "# distribution p = [0, 1, 0, 0, 0]\n",
    "\n",
    "p = [0, 1, 0, 0, 0]\n",
    "pExact = 0.8\n",
    "pOvershoot = 0.1\n",
    "pUndershoot = 0.1\n",
    "\n",
    "def move(p, U):\n",
    "    q = []\n",
    "    for i in range(len(p)):\n",
    "        s = pExact * p[(i-U) % len(p)] +  pOvershoot * p[(i-U-1) % len(p)] +pUndershoot * p[(i-U+1) % len(p)] \n",
    "        # s = s + pOvershoot * p[(i-U-1) % len(p)]\n",
    "        # s = s + pUndershoot * p[(i-U+1) % len(p)]\n",
    "        q.append(s)\n",
    "    return q\n",
    "\n",
    "## YOUR CODE HERE ##\n",
    "p = move(p, 1)\n",
    "p = move(p, 2)\n",
    "\n",
    "print(p)"
   ]
  },
  {
   "cell_type": "code",
   "execution_count": null,
   "metadata": {},
   "outputs": [],
   "source": []
  }
 ],
 "metadata": {
  "grader_mode": "",
  "kernelspec": {
   "display_name": "Python 3 (ipykernel)",
   "language": "python",
   "name": "python3"
  },
  "language_info": {
   "codemirror_mode": {
    "name": "ipython",
    "version": 3
   },
   "file_extension": ".py",
   "mimetype": "text/x-python",
   "name": "python",
   "nbconvert_exporter": "python",
   "pygments_lexer": "ipython3",
   "version": "3.12.4"
  },
  "showGradeBtn": true
 },
 "nbformat": 4,
 "nbformat_minor": 4
}
