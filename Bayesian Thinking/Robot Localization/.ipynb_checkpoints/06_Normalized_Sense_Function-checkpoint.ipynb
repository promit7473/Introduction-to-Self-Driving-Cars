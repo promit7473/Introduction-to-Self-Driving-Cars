{
 "cells": [
  {
   "cell_type": "code",
   "execution_count": 15,
   "metadata": {
    "edited": true,
    "gradable": true,
    "grader_id": "58fjrh7wzls",
    "udacity_user_query": ""
   },
   "outputs": [
    {
     "name": "stdout",
     "output_type": "stream",
     "text": [
      "[0.11111111111111113, 0.3333333333333333, 0.3333333333333333, 0.11111111111111113, 0.11111111111111113]\n"
     ]
    }
   ],
   "source": [
    "#Modify your code so that it normalizes the output for \n",
    "#the function sense. This means that the entries in q \n",
    "#should sum to one.\n",
    "\n",
    "p=[0.2, 0.2, 0.2, 0.2, 0.2]\n",
    "world=['green', 'red', 'red', 'green', 'green']\n",
    "Z = 'green'\n",
    "pHit = 0.6\n",
    "pMiss = 0.2\n",
    "\n",
    "def sense(p, Z):\n",
    "    q = []\n",
    "\n",
    "    for i in range(len(p)):\n",
    "        if world[i] == Z:\n",
    "            q.append(pHit * p[i])\n",
    "        else:\n",
    "            q.append(pMiss * p[i])\n",
    "    ## YOUR CODE HERE ##\n",
    "    total = sum(q)\n",
    "    for i in range(len(q)):\n",
    "        q[i] = q[i] / total\n",
    "    return q\n",
    "\n",
    "print(sense(p, Z))"
   ]
  },
  {
   "cell_type": "code",
   "execution_count": null,
   "metadata": {},
   "outputs": [],
   "source": []
  },
  {
   "cell_type": "code",
   "execution_count": null,
   "metadata": {},
   "outputs": [],
   "source": []
  }
 ],
 "metadata": {
  "grader_mode": "",
  "kernelspec": {
   "display_name": "Python 3 (ipykernel)",
   "language": "python",
   "name": "python3"
  },
  "language_info": {
   "codemirror_mode": {
    "name": "ipython",
    "version": 3
   },
   "file_extension": ".py",
   "mimetype": "text/x-python",
   "name": "python",
   "nbconvert_exporter": "python",
   "pygments_lexer": "ipython3",
   "version": "3.12.4"
  },
  "showGradeBtn": true
 },
 "nbformat": 4,
 "nbformat_minor": 4
}
