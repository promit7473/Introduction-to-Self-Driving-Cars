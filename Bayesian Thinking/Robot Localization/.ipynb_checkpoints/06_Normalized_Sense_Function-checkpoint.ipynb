{
 "cells": [
  {
   "cell_type": "code",
   "execution_count": 12,
   "metadata": {
    "edited": true,
    "gradable": true,
    "grader_id": "58fjrh7wzls",
    "udacity_user_query": ""
   },
   "outputs": [
    {
     "ename": "NameError",
     "evalue": "name 'World' is not defined",
     "output_type": "error",
     "traceback": [
      "\u001b[1;31m---------------------------------------------------------------------------\u001b[0m",
      "\u001b[1;31mNameError\u001b[0m                                 Traceback (most recent call last)",
      "Cell \u001b[1;32mIn[12], line 25\u001b[0m\n\u001b[0;32m     22\u001b[0m         q[i] \u001b[38;5;241m=\u001b[39m q[i] \u001b[38;5;241m/\u001b[39m total\n\u001b[0;32m     23\u001b[0m     \u001b[38;5;28;01mreturn\u001b[39;00m q\n\u001b[1;32m---> 25\u001b[0m \u001b[38;5;28mprint\u001b[39m(sense(p, \u001b[43mWorld\u001b[49m, Z))\n",
      "\u001b[1;31mNameError\u001b[0m: name 'World' is not defined"
     ]
    }
   ],
   "source": [
    "#Modify your code so that it normalizes the output for \n",
    "#the function sense. This means that the entries in q \n",
    "#should sum to one.\n",
    "\n",
    "p=[0.2, 0.2, 0.2, 0.2, 0.2]\n",
    "world=['green', 'red', 'red', 'green', 'green']\n",
    "Z = 'green'\n",
    "pHit = 0.6\n",
    "pMiss = 0.2\n",
    "\n",
    "def sense(p, world, Z):\n",
    "    q = list()\n",
    "\n",
    "    for i in range(len(p)):\n",
    "        if world[i] == Z:\n",
    "            q.append(pHit * p[i])\n",
    "        else:\n",
    "            q.append(pMiss * p[i])\n",
    "    ## YOUR CODE HERE ##\n",
    "    total = sum(q)\n",
    "    for i in range(len(q)):\n",
    "        q[i] = q[i] / total\n",
    "    return q\n",
    "\n",
    "print(sense(p, world, Z))"
   ]
  },
  {
   "cell_type": "code",
   "execution_count": 8,
   "metadata": {},
   "outputs": [
    {
     "ename": "NameError",
     "evalue": "name 'q' is not defined",
     "output_type": "error",
     "traceback": [
      "\u001b[1;31m---------------------------------------------------------------------------\u001b[0m",
      "\u001b[1;31mNameError\u001b[0m                                 Traceback (most recent call last)",
      "Cell \u001b[1;32mIn[8], line 1\u001b[0m\n\u001b[1;32m----> 1\u001b[0m \u001b[38;5;28mprint\u001b[39m(\u001b[43mq\u001b[49m)\n",
      "\u001b[1;31mNameError\u001b[0m: name 'q' is not defined"
     ]
    }
   ],
   "source": []
  },
  {
   "cell_type": "code",
   "execution_count": null,
   "metadata": {},
   "outputs": [],
   "source": []
  }
 ],
 "metadata": {
  "grader_mode": "",
  "kernelspec": {
   "display_name": "Python 3 (ipykernel)",
   "language": "python",
   "name": "python3"
  },
  "language_info": {
   "codemirror_mode": {
    "name": "ipython",
    "version": 3
   },
   "file_extension": ".py",
   "mimetype": "text/x-python",
   "name": "python",
   "nbconvert_exporter": "python",
   "pygments_lexer": "ipython3",
   "version": "3.12.4"
  },
  "showGradeBtn": true
 },
 "nbformat": 4,
 "nbformat_minor": 4
}
