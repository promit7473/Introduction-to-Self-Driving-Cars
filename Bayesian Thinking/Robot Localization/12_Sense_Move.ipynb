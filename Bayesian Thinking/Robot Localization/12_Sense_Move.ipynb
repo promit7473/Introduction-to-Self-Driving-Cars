{
 "cells": [
  {
   "cell_type": "code",
   "execution_count": 3,
   "metadata": {
    "edited": true,
    "gradable": true,
    "grader_id": "s981380uofh",
    "udacity_user_query": ""
   },
   "outputs": [
    {
     "name": "stdout",
     "output_type": "stream",
     "text": [
      "[0.31920000000000004, 0.3328, 0.13040000000000002, 0.06400000000000002, 0.15360000000000004]\n"
     ]
    }
   ],
   "source": [
    "# Given the list motions=[1, 1] which means the robot \n",
    "# moves right and then right again, compute the posterior \n",
    "# distribution if the robot first senses red, then moves \n",
    "# right one, senses green, and moves right again, \n",
    "# starting with a uniform prior distribution.\n",
    "\n",
    "p=[0.2, 0.2, 0.2, 0.2, 0.2]\n",
    "world=['green', 'red', 'red', 'green', 'green']\n",
    "measurements = ['green', 'green']\n",
    "motions = [1, 1]\n",
    "pHit = 0.6\n",
    "pMiss = 0.2\n",
    "pExact = 0.8\n",
    "pOvershoot = 0.1\n",
    "pUndershoot = 0.1\n",
    "\n",
    "def sense(p, world, Z):\n",
    "    q = list()\n",
    "    \n",
    "    for i in range(len(p)):\n",
    "        if world[i] == Z:\n",
    "            q.append(pHit * p[i])\n",
    "        else:\n",
    "            q.append(pMiss * p[i])\n",
    "\n",
    "    total = sum(q)\n",
    "    for i in range(len(q)):\n",
    "        q[i] = q[i] / total\n",
    "    return q\n",
    "\n",
    "def move(p, U):\n",
    "    q = []\n",
    "    for i in range(len(p)):\n",
    "        s = pExact * p[(i-U) % len(p)]\n",
    "        s = s + pOvershoot * p[(i-U-1) % len(p)]\n",
    "        s = s + pUndershoot * p[(i-U+1) % len(p)]\n",
    "        q.append(s)\n",
    "    return q\n",
    "\n",
    "## YOUR CODE HERE ##\n",
    "for k in range(len(measurements)):\n",
    "    p = sense(p, world, measurements[k])\n",
    "    p = move(p, motions[k])\n",
    "    \n",
    "print(p)"
   ]
  },
  {
   "cell_type": "code",
   "execution_count": null,
   "metadata": {},
   "outputs": [],
   "source": []
  }
 ],
 "metadata": {
  "grader_mode": "",
  "kernelspec": {
   "display_name": "Python 3 (ipykernel)",
   "language": "python",
   "name": "python3"
  },
  "language_info": {
   "codemirror_mode": {
    "name": "ipython",
    "version": 3
   },
   "file_extension": ".py",
   "mimetype": "text/x-python",
   "name": "python",
   "nbconvert_exporter": "python",
   "pygments_lexer": "ipython3",
   "version": "3.12.4"
  },
  "showGradeBtn": true
 },
 "nbformat": 4,
 "nbformat_minor": 4
}
